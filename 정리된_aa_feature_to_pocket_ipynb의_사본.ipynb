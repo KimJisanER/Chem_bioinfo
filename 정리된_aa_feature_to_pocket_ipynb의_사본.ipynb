{
  "nbformat": 4,
  "nbformat_minor": 0,
  "metadata": {
    "colab": {
      "provenance": [],
      "machine_shape": "hm",
      "mount_file_id": "1DZMKSWwCCKKQJ7VVEq0pEz9vmH6KmPMR",
      "authorship_tag": "ABX9TyMo4Vp821RV0L9A3HBIdzRH",
      "include_colab_link": true
    },
    "kernelspec": {
      "name": "python3",
      "display_name": "Python 3"
    },
    "language_info": {
      "name": "python"
    },
    "accelerator": "TPU"
  },
  "cells": [
    {
      "cell_type": "markdown",
      "metadata": {
        "id": "view-in-github",
        "colab_type": "text"
      },
      "source": [
        "<a href=\"https://colab.research.google.com/github/KimJisanER/code_jjambbong/blob/main/%EC%A0%95%EB%A6%AC%EB%90%9C_aa_feature_to_pocket_ipynb%EC%9D%98_%EC%82%AC%EB%B3%B8.ipynb\" target=\"_parent\"><img src=\"https://colab.research.google.com/assets/colab-badge.svg\" alt=\"Open In Colab\"/></a>"
      ]
    },
    {
      "cell_type": "code",
      "execution_count": null,
      "metadata": {
        "colab": {
          "base_uri": "https://localhost:8080/"
        },
        "id": "y1b9LXT1AEBv",
        "outputId": "43f1bc2c-d679-4d15-db43-38e93df2ad29"
      },
      "outputs": [
        {
          "output_type": "stream",
          "name": "stdout",
          "text": [
            "Collecting biopython\n",
            "  Downloading biopython-1.81-cp310-cp310-manylinux_2_17_x86_64.manylinux2014_x86_64.whl (3.1 MB)\n",
            "\u001b[2K     \u001b[90m━━━━━━━━━━━━━━━━━━━━━━━━━━━━━━━━━━━━━━━━\u001b[0m \u001b[32m3.1/3.1 MB\u001b[0m \u001b[31m34.2 MB/s\u001b[0m eta \u001b[36m0:00:00\u001b[0m\n",
            "\u001b[?25hRequirement already satisfied: numpy in /usr/local/lib/python3.10/dist-packages (from biopython) (1.25.1)\n",
            "Installing collected packages: biopython\n",
            "Successfully installed biopython-1.81\n"
          ]
        }
      ],
      "source": [
        "!pip install biopython\n",
        "from Bio.PDB import PDBParser, Polypeptide\n",
        "import matplotlib.pyplot as plt\n",
        "import os\n",
        "import numpy as np\n",
        "import pandas as pd\n",
        "import re\n",
        "import pickle\n",
        "from sklearn.preprocessing import RobustScaler\n",
        "from sklearn.preprocessing import StandardScaler\n",
        "from tqdm import tqdm\n",
        "import warnings\n",
        "from Bio import BiopythonWarning\n",
        "import tensorflow as tf\n",
        "warnings.simplefilter('ignore', BiopythonWarning)"
      ]
    },
    {
      "cell_type": "code",
      "source": [
        "fasta_file = '/content/drive/MyDrive/5_HTR/accessions_sequence_0606_muscle.fasta'\n",
        "\n",
        "def make_inverse_numbering_map(fasta_file, dataframe):\n",
        "  with open(fasta_file, 'r') as f:\n",
        "    lines = f.readlines()\n",
        "  index = 0\n",
        "  seqs = []\n",
        "  headers = []\n",
        "  header_positions = []  # Store the positions of headers satisfying the condition\n",
        "\n",
        "  for i, line in enumerate(lines):\n",
        "      if line.startswith('>'):\n",
        "          headers.append(line.strip().upper())\n",
        "          seqs.append('')\n",
        "          if dataframe['target_accession'].max() in line:\n",
        "              header_positions.append(index)  # Store the position of the header\n",
        "          index += 1\n",
        "      else:\n",
        "          seqs[-1] += line.strip()\n",
        "\n",
        "  seq = seqs[header_positions[0]]  # Get the sequence corresponding to the header position\n",
        "\n",
        "  # Dictionary for positions without hyphen\n",
        "  numbering_map = {}\n",
        "\n",
        "  position_without_hyphen = 1\n",
        "  position_with_hyphen = 1\n",
        "  for aa in seq:\n",
        "      if aa == '-':\n",
        "          position_with_hyphen += 1\n",
        "      else:\n",
        "          numbering_map[position_without_hyphen] = position_with_hyphen\n",
        "          position_without_hyphen += 1\n",
        "          position_with_hyphen += 1\n",
        "\n",
        "\n",
        "\n",
        "  return numbering_map\n",
        "\n",
        "blosum62_matrix = {\n",
        "    'A': [4, -1, -2, -2, 0, -1, -1, 0, -2, -1, -1, -1, -1, -2, -1, 1, 0, -3, -2, 0, -2, -1, 0],\n",
        "    'R': [-1, 5, 0, -2, -3, 1, 0, -2, 0, -3, -2, 2, -1, -3, -2, -1, -1, -3, -2, -3, -1, 0, -1],\n",
        "    'N': [-2, 0, 6, 1, -3, 0, 0, 0, 1, -3, -3, 0, -2, -3, -2, 1, 0, -4, -2, -3, 3, 0, -1],\n",
        "    'D': [-2, -2, 1, 6, -3, 0, 2, -1, -1, -3, -4, -1, -3, -3, -1, 0, -1, -4, -3, -3, 4, 1, -1],\n",
        "    'C': [0, -3, -3, -3, 9, -3, -4, -3, -3, -1, -1, -3, -1, -2, -3, -1, -1, -2, -2, -1, -3, -3, -2],\n",
        "    'Q': [-1, 1, 0, 0, -3, 5, 2, -2, 0, -3, -2, 1, 0, -3, -1, 0, -1, -2, -1, -2, 0, 3, -1],\n",
        "    'E': [-1, 0, 0, 2, -4, 2, 5, -2, 0, -3, -3, 1, -2, -3, -1, 0, -1, -3, -2, -2, 1, 4, -1],\n",
        "    'G': [0, -2, 0, -1, -3, -2, -2, 6, -2, -4, -4, -2, -3, -3, -2, 0, -2, -2, -3, -3, -1, -2, -1],\n",
        "    'H': [-2, 0, 1, -1, -3, 0, 0, -2, 8, -3, -3, -1, -2, -1, -2, -1, -2, -2, 2, -3, 0, 0, -1],\n",
        "    'I': [-1, -3, -3, -3, -1, -3, -3, -4, -3, 4, 2, -3, 1, 0, -3, -2, -1, -3, -1, 3, -3, -3, -1],\n",
        "    'L': [-1, -2, -3, -4, -1, -2, -3, -4, -3, 2, 4, -2, 2, 0, -3, -2, -1, -2, -1, 1, -4, -3, -1],\n",
        "    'K': [-1, 2, 0, -1, -3, 1, 1, -2, -1, -3, -2, 5, -1, -3, -1, 0, -1, -3, -2, -2, 0, 1, -1],\n",
        "    'M': [-1, -1, -2, -3, -1, 0, -2, -3, -2, 1, 2, -1, 5, 0, -2, -1, -1, -1, -1, 1, -3, -1, -1],\n",
        "    'F': [-2, -3, -3, -3, -2, -3, -3, -3, -1, 0, 0, -3, 0, 6, -4, -2, -2, 1, 3, -1, -3, -3, -1],\n",
        "    'P': [-1, -2, -2, -1, -3, -1, -1, -2, -2, -3, -3, -1, -2, -4, 7, -1, -1, -4, -3, -2, -2, -1, -2 ],\n",
        "    'S': [1, -1, 1, 0, -1, 0, 0, 0, -1, -2, -2, 0, -1, -2, -1, 4, 1, -3, -2, -2, 0, 0, 0],\n",
        "    'T': [0, -1, 0, -1, -1, -1, -1, -2, -2, -1, -1, -1, -1, -2, -1, 1, 5, -2, -2, 0, -1, -1, 0],\n",
        "    'W': [-3, -3, -4, -4, -2, -2, -3, -2, -2, -3, -2, -3, -1, 1, -4, -3, -2, 11, 2, -3, -4, -3, -2],\n",
        "    'Y': [-2, -2, -2, -3, -2, -1, -2, -3, 2, -1, -1, -2, -1, 3, -3, -2, -2, 2, 7, -1, -3, -2, -1],\n",
        "    'V': [0, -3, -3, -3, -1, -2, -2, -3, -3, 3, 1, -2, 1, -1, -2, -2, 0, -3, -1, 4, -3, -2, -1],\n",
        "    'B': [-2, -1, 3, 4, -3, 0, 1, -1, 0, -3, -4, 0, -3, -3, -2, 0, -1, -4, -3, -3, 4, 1, -1],\n",
        "    'Z': [-1, 0, 0, 1, -3, 3, 4, -2, 0, -3, -3, 1, -1, -3, -1, 0, -1, -3, -2, -2, 1, 4, -1],\n",
        "    'X': [0, -1, -1, -1, -2, -1, -1, -1, -1, -1, -1, -1, -1, -1, -2, 0, 0, -2, -1, -1, -1, -1, -1],\n",
        "    '-': [-4, -4, -4, -4, -4, -4, -4, -4, -4, -4, -4, -4, -4, -4, -4, -4, -4, -4, -4, -4, -4, -4, -4],\n",
        "    '*': [-4, -4, -4, -4, -4, -4, -4, -4, -4, -4, -4, -4, -4, -4, -4, -4, -4, -4, -4, -4, -4, -4, -4]\n",
        "}\n",
        "\n",
        "\n",
        "def generate_aa_coords_array(pdb_name, input_list ,total_inverse_map):\n",
        "\n",
        "  px = 128\n",
        "  zoom = 2\n",
        "\n",
        "  coords_list = []\n",
        "\n",
        "  parser = PDBParser()\n",
        "  structure = parser.get_structure(\"pdb_structure\", f\"/content/drive/MyDrive/3D/{pdb_name}.pdb\")\n",
        "  model = structure[0]\n",
        "\n",
        "  for i in range(23):\n",
        "      coords = tf.zeros((px, px, px), dtype=tf.float32)\n",
        "\n",
        "      residue_list = [total_inverse_map.get(pdb_name.split('_')[1]).get(int(res),) for res in input_list]\n",
        "\n",
        "      total_coords_x = []\n",
        "      total_coords_y = []\n",
        "      total_coords_z = []\n",
        "      for chain in model:\n",
        "          for residue in chain:\n",
        "              if residue.get_id()[0] == \" \":\n",
        "                  res_id = residue.get_id()[1]\n",
        "                  if res_id in residue_list:\n",
        "                      atom = residue['CA']\n",
        "                      coord = atom.get_coord()\n",
        "                      total_coords_x.append(coord[0])\n",
        "                      total_coords_y.append(coord[1])\n",
        "                      total_coords_z.append(coord[2])\n",
        "\n",
        "      center_x = tf.reduce_mean(total_coords_x)\n",
        "      center_y = tf.reduce_mean(total_coords_y)\n",
        "      center_z = tf.reduce_mean(total_coords_z)\n",
        "\n",
        "      x_shift = px/2 - center_x\n",
        "      y_shift = px/2 - center_y\n",
        "      z_shift = px/2 - center_z\n",
        "\n",
        "      model = structure[0]\n",
        "      for chain in model:\n",
        "          for residue in chain:\n",
        "              if residue.get_id()[0] == \" \":\n",
        "                  res_id = residue.get_id()[1]\n",
        "                  if res_id in residue_list:\n",
        "                      try:\n",
        "                          atom = residue['CA']\n",
        "                          coord = atom.get_coord()\n",
        "                          x, y, z = coord\n",
        "                          x_index = tf.cast(tf.round((x + x_shift)*zoom) - px/2*(zoom-1), dtype=tf.int32)\n",
        "                          y_index = tf.cast(tf.round((y + y_shift)*zoom) - px/2*(zoom-1), dtype=tf.int32)\n",
        "                          z_index = tf.cast(tf.round((z + z_shift)*zoom) - px/2*(zoom-1), dtype=tf.int32)\n",
        "\n",
        "                          residue_name = Polypeptide.three_to_one(residue.get_resname())\n",
        "                          embedding = blosum62_matrix[residue_name]\n",
        "                          coords = tf.tensor_scatter_nd_update(coords, [[x_index, y_index, z_index]], [(embedding[i]+5)/16])\n",
        "                      except KeyError:\n",
        "                          pass\n",
        "      coords_list.append(coords)\n",
        "  return coords_list\n",
        "\n",
        "\n",
        "def generate_coords_array(pdb_name, input_list ,total_inverse_map):\n",
        "\n",
        "  px = 128\n",
        "  zoom = 2\n",
        "\n",
        "  index_map = {}\n",
        "\n",
        "  coords = tf.zeros((px, px, px), dtype=tf.float32)\n",
        "  parser = PDBParser()\n",
        "  structure = parser.get_structure(\"pdb_structure\", f\"/content/drive/MyDrive/3D/{pdb_name}.pdb\")\n",
        "  residue_list = [total_inverse_map.get(pdb_name.split('_')[1]).get(int(res),) for res in input_list]\n",
        "\n",
        "  model = structure[0]\n",
        "\n",
        "  total_coords_x = []\n",
        "  total_coords_y = []\n",
        "  total_coords_z = []\n",
        "  for chain in model:\n",
        "      for residue in chain:\n",
        "          if residue.get_id()[0] == \" \":\n",
        "              res_id = residue.get_id()[1]\n",
        "              if res_id in residue_list:\n",
        "                  atom = residue['CA']\n",
        "                  coord = atom.get_coord()\n",
        "                  total_coords_x.append(coord[0])\n",
        "                  total_coords_y.append(coord[1])\n",
        "                  total_coords_z.append(coord[2])\n",
        "\n",
        "  center_x = tf.reduce_mean(total_coords_x)\n",
        "  center_y = tf.reduce_mean(total_coords_y)\n",
        "  center_z = tf.reduce_mean(total_coords_z)\n",
        "\n",
        "  x_shift = px/2 - center_x\n",
        "  y_shift = px/2 - center_y\n",
        "  z_shift = px/2 - center_z\n",
        "\n",
        "  model = structure[0]\n",
        "  for chain in model:\n",
        "      for residue in chain:\n",
        "          if residue.get_id()[0] == \" \":\n",
        "              res_id = residue.get_id()[1]\n",
        "              if res_id in residue_list:\n",
        "                  try:\n",
        "                      atom = residue['CA']\n",
        "                      coord = atom.get_coord()\n",
        "                      x, y, z = coord\n",
        "                      x_index = tf.cast(tf.round((x + x_shift)*zoom) - px/2*(zoom-1), dtype=tf.int32)\n",
        "                      y_index = tf.cast(tf.round((y + y_shift)*zoom) - px/2*(zoom-1), dtype=tf.int32)\n",
        "                      z_index = tf.cast(tf.round((z + z_shift)*zoom) - px/2*(zoom-1), dtype=tf.int32)\n",
        "\n",
        "                      coords = tf.tensor_scatter_nd_update(coords, [[x_index, y_index, z_index]], tf.constant(res_id, dtype=tf.float32))\n",
        "                      index_map[res_id] = [x_index, y_index, z_index]\n",
        "                  except KeyError:\n",
        "                      pass\n",
        "\n",
        "  return coords, index_map\n",
        "\n",
        "\n",
        "\n",
        "def extract_fp(df, i, total_inverse_map):\n",
        "    fp_dict = {}\n",
        "\n",
        "    for col in df.columns:\n",
        "        if col in input_list:\n",
        "            key = total_inverse_map.get(df['target_accession'][i], {}).get(int(col), None)\n",
        "            value = df[col][i]\n",
        "            fp_dict[key] = value.tolist()\n",
        "\n",
        "    return fp_dict\n",
        "\n",
        "def generate_fp_coords_array(pdb_name, fp_dict, pdb_coords_dict, pdb_index_map):\n",
        "    coords = pdb_coords_dict[pdb_name]\n",
        "    for residue in list(fp_dict.keys()):\n",
        "        if isinstance(residue, int):\n",
        "            residue_indices = pdb_index_map[pdb_name].get(residue)\n",
        "            if residue_indices is not None:\n",
        "                x_index, y_index, z_index = residue_indices\n",
        "                coords[x_index, y_index, z_index] = fp_dict[residue]\n",
        "    return coords\n"
      ],
      "metadata": {
        "id": "t4SYmT2RAtNT"
      },
      "execution_count": null,
      "outputs": []
    },
    {
      "cell_type": "code",
      "source": [
        "fingerprint = pd.read_csv('/content/drive/MyDrive/5_HTR/5HTR_fingerprint_ensemble_receptor_0712.csv', encoding='utf-8', low_memory=False).fillna(0)\n",
        "with open(file='/content/drive/MyDrive/5_HTR/total_numbering_map_only5HTR.pickle', mode='rb') as f:\n",
        "    total_numbering_list = pickle.load(f)\n",
        "\n",
        "total_numbering_map = total_numbering_list[0]\n",
        "total_inverse_map = total_numbering_list[1]\n",
        "\n",
        "\n",
        "input_list = [residue for residue in fingerprint.iloc[:, 4: ].columns]\n",
        "\n",
        "scaled_fingerprint = fingerprint\n",
        "fp_max = fingerprint.iloc[:, 4:].max().max()\n",
        "fp_min = fingerprint.iloc[:, 4:].min().min()\n",
        "scaled_fingerprint.iloc[:, 4:] = fingerprint.iloc[:, 4:] / fp_min\n",
        "\n",
        "pdb_names = [name.replace('_aligned','') for name in scaled_fingerprint['ensemble receptor'].unique()]\n",
        "print(pdb_names)\n",
        "\n"
      ],
      "metadata": {
        "id": "7ISdpcAXAvxA",
        "colab": {
          "base_uri": "https://localhost:8080/"
        },
        "outputId": "bcc19966-ed7f-47ef-bd56-100a5c92b28e"
      },
      "execution_count": null,
      "outputs": [
        {
          "output_type": "stream",
          "name": "stdout",
          "text": [
            "['7E2X_P08908_R', '7E32_P28221_R', '4IAR_P28222_A', '7VOD_P28223_A', '6WH4_P28223_A', '7WC4_P28223_A', '6A93_P28223_A', '6BQH_P28335_A', '6BQG_P28335_A', '7E33_P28566_R', '7EXD_P30939_R', '7XTC_P34969_R', '5TUD_P41595_A', '7UM4_P47898_A', '7UM6_P47898_A', '7XTB_P50406_R', '7XT9_Q13639_R']\n"
          ]
        }
      ]
    },
    {
      "cell_type": "code",
      "source": [
        "pdb_coords_dict = {}\n",
        "pdb_index_map = {}\n",
        "for name in pdb_names:\n",
        "  pdb_coords_dict[name], pdb_index_map[name] = generate_coords_array(name, input_list ,total_inverse_map)"
      ],
      "metadata": {
        "id": "sNHh39IPU9l8",
        "colab": {
          "base_uri": "https://localhost:8080/",
          "height": 364
        },
        "outputId": "3d13f20e-85c3-4ffd-8b05-0c3ef3cfeef2"
      },
      "execution_count": null,
      "outputs": [
        {
          "output_type": "error",
          "ename": "InvalidArgumentError",
          "evalue": "ignored",
          "traceback": [
            "\u001b[0;31m---------------------------------------------------------------------------\u001b[0m",
            "\u001b[0;31mInvalidArgumentError\u001b[0m                      Traceback (most recent call last)",
            "\u001b[0;32m<ipython-input-5-0d7e856c51cb>\u001b[0m in \u001b[0;36m<cell line: 3>\u001b[0;34m()\u001b[0m\n\u001b[1;32m      2\u001b[0m \u001b[0mpdb_index_map\u001b[0m \u001b[0;34m=\u001b[0m \u001b[0;34m{\u001b[0m\u001b[0;34m}\u001b[0m\u001b[0;34m\u001b[0m\u001b[0;34m\u001b[0m\u001b[0m\n\u001b[1;32m      3\u001b[0m \u001b[0;32mfor\u001b[0m \u001b[0mname\u001b[0m \u001b[0;32min\u001b[0m \u001b[0mpdb_names\u001b[0m\u001b[0;34m:\u001b[0m\u001b[0;34m\u001b[0m\u001b[0;34m\u001b[0m\u001b[0m\n\u001b[0;32m----> 4\u001b[0;31m   \u001b[0mpdb_coords_dict\u001b[0m\u001b[0;34m[\u001b[0m\u001b[0mname\u001b[0m\u001b[0;34m]\u001b[0m\u001b[0;34m,\u001b[0m \u001b[0mpdb_index_map\u001b[0m\u001b[0;34m[\u001b[0m\u001b[0mname\u001b[0m\u001b[0;34m]\u001b[0m \u001b[0;34m=\u001b[0m \u001b[0mgenerate_coords_array\u001b[0m\u001b[0;34m(\u001b[0m\u001b[0mname\u001b[0m\u001b[0;34m,\u001b[0m \u001b[0minput_list\u001b[0m \u001b[0;34m,\u001b[0m\u001b[0mtotal_inverse_map\u001b[0m\u001b[0;34m)\u001b[0m\u001b[0;34m\u001b[0m\u001b[0;34m\u001b[0m\u001b[0m\n\u001b[0m",
            "\u001b[0;32m<ipython-input-2-152586812c91>\u001b[0m in \u001b[0;36mgenerate_coords_array\u001b[0;34m(pdb_name, input_list, total_inverse_map)\u001b[0m\n\u001b[1;32m    178\u001b[0m                       \u001b[0mz_index\u001b[0m \u001b[0;34m=\u001b[0m \u001b[0mtf\u001b[0m\u001b[0;34m.\u001b[0m\u001b[0mcast\u001b[0m\u001b[0;34m(\u001b[0m\u001b[0mtf\u001b[0m\u001b[0;34m.\u001b[0m\u001b[0mround\u001b[0m\u001b[0;34m(\u001b[0m\u001b[0;34m(\u001b[0m\u001b[0mz\u001b[0m \u001b[0;34m+\u001b[0m \u001b[0mz_shift\u001b[0m\u001b[0;34m)\u001b[0m\u001b[0;34m*\u001b[0m\u001b[0mzoom\u001b[0m\u001b[0;34m)\u001b[0m \u001b[0;34m-\u001b[0m \u001b[0mpx\u001b[0m\u001b[0;34m/\u001b[0m\u001b[0;36m2\u001b[0m\u001b[0;34m*\u001b[0m\u001b[0;34m(\u001b[0m\u001b[0mzoom\u001b[0m\u001b[0;34m-\u001b[0m\u001b[0;36m1\u001b[0m\u001b[0;34m)\u001b[0m\u001b[0;34m,\u001b[0m \u001b[0mdtype\u001b[0m\u001b[0;34m=\u001b[0m\u001b[0mtf\u001b[0m\u001b[0;34m.\u001b[0m\u001b[0mint32\u001b[0m\u001b[0;34m)\u001b[0m\u001b[0;34m\u001b[0m\u001b[0;34m\u001b[0m\u001b[0m\n\u001b[1;32m    179\u001b[0m \u001b[0;34m\u001b[0m\u001b[0m\n\u001b[0;32m--> 180\u001b[0;31m                       \u001b[0mcoords\u001b[0m \u001b[0;34m=\u001b[0m \u001b[0mtf\u001b[0m\u001b[0;34m.\u001b[0m\u001b[0mtensor_scatter_nd_update\u001b[0m\u001b[0;34m(\u001b[0m\u001b[0mcoords\u001b[0m\u001b[0;34m,\u001b[0m \u001b[0;34m[\u001b[0m\u001b[0;34m[\u001b[0m\u001b[0mx_index\u001b[0m\u001b[0;34m,\u001b[0m \u001b[0my_index\u001b[0m\u001b[0;34m,\u001b[0m \u001b[0mz_index\u001b[0m\u001b[0;34m]\u001b[0m\u001b[0;34m]\u001b[0m\u001b[0;34m,\u001b[0m \u001b[0mtf\u001b[0m\u001b[0;34m.\u001b[0m\u001b[0mconstant\u001b[0m\u001b[0;34m(\u001b[0m\u001b[0mres_id\u001b[0m\u001b[0;34m,\u001b[0m \u001b[0mdtype\u001b[0m\u001b[0;34m=\u001b[0m\u001b[0mtf\u001b[0m\u001b[0;34m.\u001b[0m\u001b[0mfloat32\u001b[0m\u001b[0;34m)\u001b[0m\u001b[0;34m)\u001b[0m\u001b[0;34m\u001b[0m\u001b[0;34m\u001b[0m\u001b[0m\n\u001b[0m\u001b[1;32m    181\u001b[0m                       \u001b[0mindex_map\u001b[0m\u001b[0;34m[\u001b[0m\u001b[0mres_id\u001b[0m\u001b[0;34m]\u001b[0m \u001b[0;34m=\u001b[0m \u001b[0;34m[\u001b[0m\u001b[0mx_index\u001b[0m\u001b[0;34m,\u001b[0m \u001b[0my_index\u001b[0m\u001b[0;34m,\u001b[0m \u001b[0mz_index\u001b[0m\u001b[0;34m]\u001b[0m\u001b[0;34m\u001b[0m\u001b[0;34m\u001b[0m\u001b[0m\n\u001b[1;32m    182\u001b[0m                   \u001b[0;32mexcept\u001b[0m \u001b[0mKeyError\u001b[0m\u001b[0;34m:\u001b[0m\u001b[0;34m\u001b[0m\u001b[0;34m\u001b[0m\u001b[0m\n",
            "\u001b[0;32m/usr/local/lib/python3.10/dist-packages/tensorflow/python/util/traceback_utils.py\u001b[0m in \u001b[0;36merror_handler\u001b[0;34m(*args, **kwargs)\u001b[0m\n\u001b[1;32m    151\u001b[0m     \u001b[0;32mexcept\u001b[0m \u001b[0mException\u001b[0m \u001b[0;32mas\u001b[0m \u001b[0me\u001b[0m\u001b[0;34m:\u001b[0m\u001b[0;34m\u001b[0m\u001b[0;34m\u001b[0m\u001b[0m\n\u001b[1;32m    152\u001b[0m       \u001b[0mfiltered_tb\u001b[0m \u001b[0;34m=\u001b[0m \u001b[0m_process_traceback_frames\u001b[0m\u001b[0;34m(\u001b[0m\u001b[0me\u001b[0m\u001b[0;34m.\u001b[0m\u001b[0m__traceback__\u001b[0m\u001b[0;34m)\u001b[0m\u001b[0;34m\u001b[0m\u001b[0;34m\u001b[0m\u001b[0m\n\u001b[0;32m--> 153\u001b[0;31m       \u001b[0;32mraise\u001b[0m \u001b[0me\u001b[0m\u001b[0;34m.\u001b[0m\u001b[0mwith_traceback\u001b[0m\u001b[0;34m(\u001b[0m\u001b[0mfiltered_tb\u001b[0m\u001b[0;34m)\u001b[0m \u001b[0;32mfrom\u001b[0m \u001b[0;32mNone\u001b[0m\u001b[0;34m\u001b[0m\u001b[0;34m\u001b[0m\u001b[0m\n\u001b[0m\u001b[1;32m    154\u001b[0m     \u001b[0;32mfinally\u001b[0m\u001b[0;34m:\u001b[0m\u001b[0;34m\u001b[0m\u001b[0;34m\u001b[0m\u001b[0m\n\u001b[1;32m    155\u001b[0m       \u001b[0;32mdel\u001b[0m \u001b[0mfiltered_tb\u001b[0m\u001b[0;34m\u001b[0m\u001b[0;34m\u001b[0m\u001b[0m\n",
            "\u001b[0;32m/usr/local/lib/python3.10/dist-packages/tensorflow/python/eager/execute.py\u001b[0m in \u001b[0;36mquick_execute\u001b[0;34m(op_name, num_outputs, inputs, attrs, ctx, name)\u001b[0m\n\u001b[1;32m     50\u001b[0m   \u001b[0;32mtry\u001b[0m\u001b[0;34m:\u001b[0m\u001b[0;34m\u001b[0m\u001b[0;34m\u001b[0m\u001b[0m\n\u001b[1;32m     51\u001b[0m     \u001b[0mctx\u001b[0m\u001b[0;34m.\u001b[0m\u001b[0mensure_initialized\u001b[0m\u001b[0;34m(\u001b[0m\u001b[0;34m)\u001b[0m\u001b[0;34m\u001b[0m\u001b[0;34m\u001b[0m\u001b[0m\n\u001b[0;32m---> 52\u001b[0;31m     tensors = pywrap_tfe.TFE_Py_Execute(ctx._handle, device_name, op_name,\n\u001b[0m\u001b[1;32m     53\u001b[0m                                         inputs, attrs, num_outputs)\n\u001b[1;32m     54\u001b[0m   \u001b[0;32mexcept\u001b[0m \u001b[0mcore\u001b[0m\u001b[0;34m.\u001b[0m\u001b[0m_NotOkStatusException\u001b[0m \u001b[0;32mas\u001b[0m \u001b[0me\u001b[0m\u001b[0;34m:\u001b[0m\u001b[0;34m\u001b[0m\u001b[0;34m\u001b[0m\u001b[0m\n",
            "\u001b[0;31mInvalidArgumentError\u001b[0m: {{function_node __wrapped__TensorScatterUpdate_device_/job:localhost/replica:0/task:0/device:CPU:0}} Updates shape must have rank at least one. Found:[] [Op:TensorScatterUpdate]"
          ]
        }
      ]
    },
    {
      "cell_type": "code",
      "source": [
        "aa_coords_dict={}\n",
        "for name in tqdm(pdb_names):\n",
        "  coord_list = generate_aa_coords_array(name, input_list ,total_inverse_map)\n",
        "  # 3D 배열의 크기\n",
        "  array_size = (128, 128, 128)\n",
        "\n",
        "  # 3D 배열 개수\n",
        "  array_count = 24\n",
        "\n",
        "  # 새로운 4D 배열 생성\n",
        "  new_shape = array_size + (array_count,)\n",
        "  new_array = np.zeros(new_shape)\n",
        "\n",
        "  # 3D 배열을 4D 배열로 변환\n",
        "  for i in range(len(coord_list)):\n",
        "    # 각각의 3D 배열 생성\n",
        "    array_3d = coord_list[i]\n",
        "\n",
        "    # 4D 배열에 3D 배열 삽입\n",
        "    new_array[..., i] = array_3d\n",
        "\n",
        "  aa_coords_dict[name] = new_array"
      ],
      "metadata": {
        "colab": {
          "base_uri": "https://localhost:8080/"
        },
        "id": "fY_TXijGYwl-",
        "outputId": "55f54c12-f9d5-49f6-d088-f2e178ebfd57"
      },
      "execution_count": null,
      "outputs": [
        {
          "output_type": "stream",
          "name": "stderr",
          "text": [
            "100%|██████████| 17/17 [01:09<00:00,  4.07s/it]\n"
          ]
        }
      ]
    },
    {
      "cell_type": "code",
      "source": [
        "input_3d_dict = {}\n",
        "\n",
        "for i in tqdm(range(len(scaled_fingerprint))):\n",
        "    fp_dict = extract_fp(scaled_fingerprint, i, total_inverse_map)\n",
        "    pdb_name = scaled_fingerprint['ensemble receptor'][i].replace('_aligned', '')\n",
        "    coord_array = aa_coords_dict[pdb_name]\n",
        "    fp_coord = generate_fp_coords_array(pdb_name, fp_dict, pdb_coords_dict, pdb_index_map)\n",
        "\n",
        "    coord_array[..., 23] = fp_coord\n",
        "\n",
        "    input_3d_dict[(scaled_fingerprint['target_accession'][i], scaled_fingerprint['chembl_id'][i])] = coord_array"
      ],
      "metadata": {
        "colab": {
          "base_uri": "https://localhost:8080/"
        },
        "id": "dZFuYbTVkqfi",
        "outputId": "ef7101bc-99dd-4e03-dc01-e6533c4c0c2b"
      },
      "execution_count": null,
      "outputs": [
        {
          "output_type": "stream",
          "name": "stderr",
          "text": [
            "100%|██████████| 21614/21614 [57:47<00:00,  6.23it/s]\n"
          ]
        }
      ]
    },
    {
      "cell_type": "code",
      "source": [
        "with open(file='/content/drive/MyDrive/5_HTR/3D_input_5HTR.pickle', mode='wb') as f:\n",
        "    pickle.dump(input_3d_dict, f)"
      ],
      "metadata": {
        "id": "rHwirxA-XpHv"
      },
      "execution_count": null,
      "outputs": []
    },
    {
      "cell_type": "code",
      "source": [
        "exmaple = input_3d_dict[('P28221','CHEMBL273921')]"
      ],
      "metadata": {
        "id": "f6IMicm99aO7"
      },
      "execution_count": null,
      "outputs": []
    },
    {
      "cell_type": "code",
      "source": [
        "images = []\n",
        "for i in range(24):\n",
        "    # xz 평면의 정사영 계산\n",
        "    image = np.max(exmaple[..., i], axis=1)\n",
        "    images.append(image)\n",
        "\n",
        "# 이미지 시각화\n",
        "fig = plt.figure(figsize=(12, 30))  # 전체 그림 크기 조정\n",
        "for i in range(24):\n",
        "    ax = fig.add_subplot(8, 3, i+1)\n",
        "    ax.imshow(images[i], interpolation='nearest')\n",
        "    plt.axis('off')  # 축 제거\n",
        "\n",
        "plt.savefig(f'24_embedding_2.png', bbox_inches='tight', pad_inches=0)\n",
        "\n",
        "plt.show()"
      ],
      "metadata": {
        "colab": {
          "base_uri": "https://localhost:8080/",
          "height": 1000
        },
        "id": "gVj1zWAJNQtB",
        "outputId": "93ca3f11-b496-436a-e21e-fd7756f58442"
      },
      "execution_count": null,
      "outputs": [
        {
          "output_type": "display_data",
          "data": {
            "text/plain": [
              "<Figure size 1200x3000 with 24 Axes>"
            ],
            "image/png": "[encoded data removed]"
          },
          "metadata": {}
        }
      ]
    }
  ]
}